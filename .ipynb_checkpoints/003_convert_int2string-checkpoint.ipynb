{
 "cells": [
  {
   "cell_type": "markdown",
   "id": "4a59d07e",
   "metadata": {},
   "source": [
    "https://therenegadecoder.com/code/how-to-convert-an-integer-to-a-string-in-python/\n",
    "\n",
    "* Converting a datatype from 1 to another is done using type cast"
   ]
  },
  {
   "cell_type": "code",
   "execution_count": 2,
   "id": "f13d04da",
   "metadata": {},
   "outputs": [
    {
     "data": {
      "text/plain": [
       "'I am 1 years old!'"
      ]
     },
     "execution_count": 2,
     "metadata": {},
     "output_type": "execute_result"
    }
   ],
   "source": [
    "# \"I am\" + 1 + \"years old!\" # returns error\n",
    "\n",
    "\"I am \" + str(1) + \" years old!\""
   ]
  },
  {
   "cell_type": "code",
   "execution_count": 5,
   "id": "74ee8eb8",
   "metadata": {},
   "outputs": [
    {
     "name": "stdout",
     "output_type": "stream",
     "text": [
      "5\n",
      "\n",
      " 5\n"
     ]
    },
    {
     "data": {
      "text/plain": [
       "'I am 5 years old!'"
      ]
     },
     "execution_count": 5,
     "metadata": {},
     "output_type": "execute_result"
    }
   ],
   "source": [
    "# use f strings - f string converts an expression to a string\n",
    "print(f\"{5}\")\n",
    "print(\"\\n\", str(5))\n",
    "\n",
    "f\"I am {5} years old!\""
   ]
  },
  {
   "cell_type": "code",
   "execution_count": 9,
   "id": "a1ed5670",
   "metadata": {},
   "outputs": [],
   "source": [
    "def rev_string(x):\n",
    "    for i in reversed(range(len(str(x)))):\n",
    "        print(i)"
   ]
  },
  {
   "cell_type": "code",
   "execution_count": 10,
   "id": "3a5520c2",
   "metadata": {},
   "outputs": [
    {
     "name": "stdout",
     "output_type": "stream",
     "text": [
      "3\n",
      "2\n",
      "1\n",
      "0\n"
     ]
    }
   ],
   "source": [
    "rev_string(5372)"
   ]
  }
 ],
 "metadata": {
  "kernelspec": {
   "display_name": "Python 3",
   "language": "python",
   "name": "python3"
  },
  "language_info": {
   "codemirror_mode": {
    "name": "ipython",
    "version": 3
   },
   "file_extension": ".py",
   "mimetype": "text/x-python",
   "name": "python",
   "nbconvert_exporter": "python",
   "pygments_lexer": "ipython3",
   "version": "3.8.8"
  }
 },
 "nbformat": 4,
 "nbformat_minor": 5
}
