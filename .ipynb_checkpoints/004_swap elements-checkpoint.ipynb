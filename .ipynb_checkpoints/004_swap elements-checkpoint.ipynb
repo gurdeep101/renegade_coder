{
 "cells": [
  {
   "cell_type": "markdown",
   "id": "cf1ff6a8",
   "metadata": {},
   "source": [
    "https://therenegadecoder.com/code/how-to-swap-variables-in-python/"
   ]
  },
  {
   "cell_type": "code",
   "execution_count": 1,
   "id": "1ec01187",
   "metadata": {},
   "outputs": [],
   "source": [
    "palette_1 = 'foie'\n",
    "palette_2 = 'barta'"
   ]
  },
  {
   "cell_type": "code",
   "execution_count": 2,
   "id": "bd0c4858",
   "metadata": {},
   "outputs": [
    {
     "name": "stdout",
     "output_type": "stream",
     "text": [
      "barta foie\n"
     ]
    }
   ],
   "source": [
    "# _ denotes temporary variable\n",
    "\n",
    "_ = palette_1\n",
    "palette_1 = palette_2\n",
    "palette_2 = _\n",
    "\n",
    "print(palette_1, palette_2)"
   ]
  },
  {
   "cell_type": "code",
   "execution_count": 4,
   "id": "0f8bb48f",
   "metadata": {},
   "outputs": [
    {
     "name": "stdout",
     "output_type": "stream",
     "text": [
      "barta foie\n"
     ]
    }
   ],
   "source": [
    "palette_1 = 'foie'\n",
    "palette_2 = 'barta'\n",
    "\n",
    "palette_2, palette_1 = palette_1, palette_2\n",
    "print(palette_1, palette_2)"
   ]
  },
  {
   "cell_type": "code",
   "execution_count": 5,
   "id": "3a7079a6",
   "metadata": {},
   "outputs": [
    {
     "name": "stdout",
     "output_type": "stream",
     "text": [
      "[5, 6, 7, 8] [1, 2, 3, 4]\n"
     ]
    }
   ],
   "source": [
    "# swap a list\n",
    "a = [1,2,3,4]\n",
    "b = [5,6,7,8]\n",
    "\n",
    "a,b = b,a\n",
    "\n",
    "print(a, b)"
   ]
  },
  {
   "cell_type": "code",
   "execution_count": null,
   "id": "045cb188",
   "metadata": {},
   "outputs": [],
   "source": []
  }
 ],
 "metadata": {
  "kernelspec": {
   "display_name": "Python 3",
   "language": "python",
   "name": "python3"
  },
  "language_info": {
   "codemirror_mode": {
    "name": "ipython",
    "version": 3
   },
   "file_extension": ".py",
   "mimetype": "text/x-python",
   "name": "python",
   "nbconvert_exporter": "python",
   "pygments_lexer": "ipython3",
   "version": "3.8.8"
  }
 },
 "nbformat": 4,
 "nbformat_minor": 5
}
