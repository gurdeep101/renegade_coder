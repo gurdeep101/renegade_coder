{
 "cells": [
  {
   "cell_type": "markdown",
   "id": "6b7ea284",
   "metadata": {},
   "source": [
    "https://therenegadecoder.com/code/how-to-capitalize-a-string-in-python/\n",
    "\n",
    "https://github.com/TheRenegadeCoder/how-to-python-code"
   ]
  },
  {
   "cell_type": "markdown",
   "id": "ab415225",
   "metadata": {},
   "source": [
    "### Using ASCII Codes"
   ]
  },
  {
   "cell_type": "code",
   "execution_count": 1,
   "id": "fa2440e3",
   "metadata": {},
   "outputs": [
    {
     "data": {
      "text/plain": [
       "65"
      ]
     },
     "execution_count": 1,
     "metadata": {},
     "output_type": "execute_result"
    }
   ],
   "source": [
    "ord('A')"
   ]
  },
  {
   "cell_type": "code",
   "execution_count": 2,
   "id": "17cfe62c",
   "metadata": {},
   "outputs": [
    {
     "data": {
      "text/plain": [
       "90"
      ]
     },
     "execution_count": 2,
     "metadata": {},
     "output_type": "execute_result"
    }
   ],
   "source": [
    "ord('Z')"
   ]
  },
  {
   "cell_type": "code",
   "execution_count": 3,
   "id": "925b127a",
   "metadata": {},
   "outputs": [
    {
     "data": {
      "text/plain": [
       "97"
      ]
     },
     "execution_count": 3,
     "metadata": {},
     "output_type": "execute_result"
    }
   ],
   "source": [
    "ord('a')"
   ]
  },
  {
   "cell_type": "code",
   "execution_count": 4,
   "id": "21a35c0d",
   "metadata": {
    "scrolled": true
   },
   "outputs": [
    {
     "data": {
      "text/plain": [
       "122"
      ]
     },
     "execution_count": 4,
     "metadata": {},
     "output_type": "execute_result"
    }
   ],
   "source": [
    "ord('z')"
   ]
  },
  {
   "cell_type": "code",
   "execution_count": 5,
   "id": "25eb9bf6",
   "metadata": {},
   "outputs": [
    {
     "data": {
      "text/plain": [
       "32"
      ]
     },
     "execution_count": 5,
     "metadata": {},
     "output_type": "execute_result"
    }
   ],
   "source": [
    "ord('z')-ord('Z')"
   ]
  },
  {
   "cell_type": "code",
   "execution_count": 6,
   "id": "1cc26972",
   "metadata": {},
   "outputs": [],
   "source": [
    "def char_cap(char):\n",
    "    # capitalize character\n",
    "    if 97<= ord(char) <= 122:\n",
    "        return chr(ord(char)-32)"
   ]
  },
  {
   "cell_type": "code",
   "execution_count": 7,
   "id": "75c53bf3",
   "metadata": {},
   "outputs": [],
   "source": [
    "def str_cap(string):\n",
    "    # capitalize 1st character of a string\n",
    "    char = string[0]\n",
    "    return char_cap(char) + string[1:]"
   ]
  },
  {
   "cell_type": "code",
   "execution_count": 8,
   "id": "7e780945",
   "metadata": {},
   "outputs": [
    {
     "data": {
      "text/plain": [
       "'Hello world'"
      ]
     },
     "execution_count": 8,
     "metadata": {},
     "output_type": "execute_result"
    }
   ],
   "source": [
    "str_cap('hello world')"
   ]
  },
  {
   "cell_type": "markdown",
   "id": "b439fe80",
   "metadata": {},
   "source": [
    "### Using Upper Method"
   ]
  },
  {
   "cell_type": "code",
   "execution_count": 9,
   "id": "a32fd424",
   "metadata": {},
   "outputs": [
    {
     "data": {
      "text/plain": [
       "'HOW NOW BROWN COW'"
      ]
     },
     "execution_count": 9,
     "metadata": {},
     "output_type": "execute_result"
    }
   ],
   "source": [
    "string = \"how now brown cow\"\n",
    "string.upper()"
   ]
  },
  {
   "cell_type": "markdown",
   "id": "8fffb99b",
   "metadata": {},
   "source": [
    "### Using capitalize method"
   ]
  },
  {
   "cell_type": "code",
   "execution_count": 10,
   "id": "5eccad1e",
   "metadata": {},
   "outputs": [
    {
     "data": {
      "text/plain": [
       "'How now brown cow'"
      ]
     },
     "execution_count": 10,
     "metadata": {},
     "output_type": "execute_result"
    }
   ],
   "source": [
    "string.capitalize()"
   ]
  },
  {
   "cell_type": "markdown",
   "id": "1831d546",
   "metadata": {},
   "source": [
    "### Challenge\n",
    "\n",
    "Return a copy of the string with its 1st character capitalized and rest lowercased"
   ]
  },
  {
   "cell_type": "code",
   "execution_count": 12,
   "id": "1ae75e84",
   "metadata": {},
   "outputs": [],
   "source": [
    "def cap_lower(x):\n",
    "    char = x[0]\n",
    "    return char.upper() + x[1:].lower()"
   ]
  },
  {
   "cell_type": "code",
   "execution_count": 13,
   "id": "e20c1971",
   "metadata": {},
   "outputs": [
    {
     "data": {
      "text/plain": [
       "'Howdy'"
      ]
     },
     "execution_count": 13,
     "metadata": {},
     "output_type": "execute_result"
    }
   ],
   "source": [
    "cap_lower('howdy')"
   ]
  },
  {
   "cell_type": "code",
   "execution_count": 14,
   "id": "3c4f3cba",
   "metadata": {},
   "outputs": [
    {
     "data": {
      "text/plain": [
       "'Shrub'"
      ]
     },
     "execution_count": 14,
     "metadata": {},
     "output_type": "execute_result"
    }
   ],
   "source": [
    "cap_lower('shRUb')"
   ]
  },
  {
   "cell_type": "code",
   "execution_count": null,
   "id": "c96da900",
   "metadata": {},
   "outputs": [],
   "source": []
  }
 ],
 "metadata": {
  "kernelspec": {
   "display_name": "Python 3",
   "language": "python",
   "name": "python3"
  },
  "language_info": {
   "codemirror_mode": {
    "name": "ipython",
    "version": 3
   },
   "file_extension": ".py",
   "mimetype": "text/x-python",
   "name": "python",
   "nbconvert_exporter": "python",
   "pygments_lexer": "ipython3",
   "version": "3.8.8"
  }
 },
 "nbformat": 4,
 "nbformat_minor": 5
}
