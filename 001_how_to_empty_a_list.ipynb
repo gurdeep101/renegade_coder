{
 "cells": [
  {
   "cell_type": "markdown",
   "id": "ad80e6e2",
   "metadata": {},
   "source": [
    "https://therenegadecoder.com/code/how-to-empty-a-list-in-python/\n",
    "\n",
    "https://github.com/TheRenegadeCoder/how-to-python-code"
   ]
  },
  {
   "cell_type": "code",
   "execution_count": 1,
   "id": "1fa48af1",
   "metadata": {},
   "outputs": [],
   "source": [
    "# create empty list and add to it\n",
    "anime = []\n",
    "anime.append(\"Beastars\")"
   ]
  },
  {
   "cell_type": "code",
   "execution_count": 2,
   "id": "ba7b90ff",
   "metadata": {},
   "outputs": [
    {
     "data": {
      "text/plain": [
       "['Promised Neverland', 'Attack on Titan', 'Re:Zero', 'Beastars']"
      ]
     },
     "execution_count": 2,
     "metadata": {},
     "output_type": "execute_result"
    }
   ],
   "source": [
    "# after a few appends\n",
    "anime = [\n",
    "  \"Promised Neverland\",\n",
    "  \"Attack on Titan\",\n",
    "  \"Re:Zero\",\n",
    "  \"Beastars\"\n",
    "]\n",
    "anime"
   ]
  },
  {
   "cell_type": "markdown",
   "id": "a3c37058",
   "metadata": {},
   "source": [
    "### Different ways to empty the list and start over"
   ]
  },
  {
   "cell_type": "code",
   "execution_count": 3,
   "id": "36cf67cb",
   "metadata": {},
   "outputs": [
    {
     "name": "stdout",
     "output_type": "stream",
     "text": [
      "['Promised Neverland', 'Attack on Titan', 'Re:Zero', 'Beastars', 'My Hero Academia']\n"
     ]
    },
    {
     "data": {
      "text/plain": [
       "['Promised Neverland', 'Attack on Titan', 'Re:Zero', 'Beastars']"
      ]
     },
     "execution_count": 3,
     "metadata": {},
     "output_type": "execute_result"
    }
   ],
   "source": [
    "# use remove - need to know the items\n",
    "anime.append(\"My Hero Academia\")\n",
    "print(anime)\n",
    "\n",
    "anime.remove(\"My Hero Academia\")\n",
    "anime"
   ]
  },
  {
   "cell_type": "code",
   "execution_count": 4,
   "id": "39130003",
   "metadata": {},
   "outputs": [
    {
     "name": "stdout",
     "output_type": "stream",
     "text": [
      "['Promised Neverland', 'Attack on Titan', 'Re:Zero']\n"
     ]
    },
    {
     "data": {
      "text/plain": [
       "['Promised Neverland', 'Attack on Titan']"
      ]
     },
     "execution_count": 4,
     "metadata": {},
     "output_type": "execute_result"
    }
   ],
   "source": [
    "# pop - removes the last item\n",
    "anime.pop()\n",
    "print(anime)\n",
    "\n",
    "anime.pop()\n",
    "anime"
   ]
  },
  {
   "cell_type": "code",
   "execution_count": 5,
   "id": "2ffbfdb9",
   "metadata": {},
   "outputs": [
    {
     "name": "stdout",
     "output_type": "stream",
     "text": [
      "['Promised Neverland', 'Attack on Titan', 'Re:Zero', 'Beastars']\n"
     ]
    },
    {
     "data": {
      "text/plain": [
       "[]"
      ]
     },
     "execution_count": 5,
     "metadata": {},
     "output_type": "execute_result"
    }
   ],
   "source": [
    "anime = [\n",
    "  \"Promised Neverland\",\n",
    "  \"Attack on Titan\",\n",
    "  \"Re:Zero\",\n",
    "  \"Beastars\"\n",
    "]\n",
    "\n",
    "print(anime)\n",
    "\n",
    "# use while statement\n",
    "while anime:\n",
    "    anime.pop()\n",
    "    \n",
    "anime"
   ]
  },
  {
   "cell_type": "code",
   "execution_count": 6,
   "id": "b3a59e32",
   "metadata": {},
   "outputs": [
    {
     "name": "stdout",
     "output_type": "stream",
     "text": [
      "['Promised Neverland', 'Attack on Titan', 'Re:Zero', 'Beastars']\n"
     ]
    },
    {
     "data": {
      "text/plain": [
       "[]"
      ]
     },
     "execution_count": 6,
     "metadata": {},
     "output_type": "execute_result"
    }
   ],
   "source": [
    "# empty a list by assignment - useful in a nested loop when outer loop initializes a list for the inner loop\n",
    "anime = [\n",
    "  \"Promised Neverland\",\n",
    "  \"Attack on Titan\",\n",
    "  \"Re:Zero\",\n",
    "  \"Beastars\"\n",
    "]\n",
    "\n",
    "print(anime)\n",
    "\n",
    "anime = []\n",
    "\n",
    "anime"
   ]
  },
  {
   "cell_type": "code",
   "execution_count": 19,
   "id": "3b9bbd5a",
   "metadata": {},
   "outputs": [
    {
     "name": "stdout",
     "output_type": "stream",
     "text": [
      "['Promised Neverland', 'Attack on Titan', 'Re:Zero', 'Beastars']\n",
      "[]\n"
     ]
    },
    {
     "data": {
      "text/plain": [
       "[]"
      ]
     },
     "execution_count": 19,
     "metadata": {},
     "output_type": "execute_result"
    }
   ],
   "source": [
    "# clear method - this empties the list and all it's references / aliases\n",
    "anime = [\n",
    "  \"Promised Neverland\",\n",
    "  \"Attack on Titan\",\n",
    "  \"Re:Zero\",\n",
    "  \"Beastars\"\n",
    "]\n",
    "\n",
    "print(anime)\n",
    "\n",
    "tv = anime\n",
    "\n",
    "anime.clear()\n",
    "\n",
    "# clears both tv and anime\n",
    "print(tv)\n",
    "anime"
   ]
  },
  {
   "cell_type": "code",
   "execution_count": 8,
   "id": "b5482899",
   "metadata": {},
   "outputs": [
    {
     "name": "stdout",
     "output_type": "stream",
     "text": [
      "['Promised Neverland', 'Attack on Titan', 'Re:Zero', 'Beastars']\n"
     ]
    }
   ],
   "source": [
    "# del method - list needs to be reinitialized\n",
    "anime = [\n",
    "  \"Promised Neverland\",\n",
    "  \"Attack on Titan\",\n",
    "  \"Re:Zero\",\n",
    "  \"Beastars\"\n",
    "]\n",
    "\n",
    "print(anime)\n",
    "\n",
    "del anime # deletes content and variable name\n",
    "\n",
    "# anime  # returns not defined error"
   ]
  },
  {
   "cell_type": "code",
   "execution_count": 9,
   "id": "ce2c3568",
   "metadata": {},
   "outputs": [
    {
     "name": "stdout",
     "output_type": "stream",
     "text": [
      "['Promised Neverland', 'Attack on Titan', 'Re:Zero', 'Beastars']\n"
     ]
    },
    {
     "data": {
      "text/plain": [
       "[]"
      ]
     },
     "execution_count": 9,
     "metadata": {},
     "output_type": "execute_result"
    }
   ],
   "source": [
    "# delete using slice to retain the variable name\n",
    "anime = [\n",
    "  \"Promised Neverland\",\n",
    "  \"Attack on Titan\",\n",
    "  \"Re:Zero\",\n",
    "  \"Beastars\"\n",
    "]\n",
    "\n",
    "print(anime)\n",
    "\n",
    "del anime[:]\n",
    "\n",
    "anime"
   ]
  },
  {
   "cell_type": "code",
   "execution_count": 10,
   "id": "ad6466b3",
   "metadata": {},
   "outputs": [
    {
     "name": "stdout",
     "output_type": "stream",
     "text": [
      "['Mirai Nikki', \"Girl's Last Tour\"]\n"
     ]
    },
    {
     "data": {
      "text/plain": [
       "[]"
      ]
     },
     "execution_count": 10,
     "metadata": {},
     "output_type": "execute_result"
    }
   ],
   "source": [
    "# empty a list using slice assignment\n",
    "anime = []\n",
    "anime.append(\"Mirai Nikki\")\n",
    "anime.append(\"Girl's Last Tour\")\n",
    "print(anime)\n",
    "\n",
    "anime[:] = []\n",
    "anime"
   ]
  },
  {
   "cell_type": "code",
   "execution_count": 11,
   "id": "d6193f56",
   "metadata": {},
   "outputs": [
    {
     "name": "stdout",
     "output_type": "stream",
     "text": [
      "['Promised Neverland', 'Attack on Titan', 'Re:Zero', 'Beastars']\n"
     ]
    },
    {
     "data": {
      "text/plain": [
       "['Promised Neverland',\n",
       " 'Attack on Titan',\n",
       " 'Re:Zero',\n",
       " 'Beastars',\n",
       " 'Promised Neverland',\n",
       " 'Attack on Titan',\n",
       " 'Re:Zero',\n",
       " 'Beastars',\n",
       " 'Promised Neverland',\n",
       " 'Attack on Titan',\n",
       " 'Re:Zero',\n",
       " 'Beastars']"
      ]
     },
     "execution_count": 11,
     "metadata": {},
     "output_type": "execute_result"
    }
   ],
   "source": [
    "anime = [\n",
    "  \"Promised Neverland\",\n",
    "  \"Attack on Titan\",\n",
    "  \"Re:Zero\",\n",
    "  \"Beastars\"\n",
    "]\n",
    "\n",
    "print(anime)\n",
    "\n",
    "anime * 3"
   ]
  },
  {
   "cell_type": "code",
   "execution_count": 12,
   "id": "047c2659",
   "metadata": {},
   "outputs": [
    {
     "data": {
      "text/plain": [
       "[]"
      ]
     },
     "execution_count": 12,
     "metadata": {},
     "output_type": "execute_result"
    }
   ],
   "source": [
    "# empty by multiplying by 0\n",
    "anime * 0"
   ]
  },
  {
   "cell_type": "code",
   "execution_count": 14,
   "id": "af7cb06a",
   "metadata": {},
   "outputs": [
    {
     "data": {
      "text/plain": [
       "{'Attack on Titan', 'Beastars', 'Promised Neverland', 'Re:Zero'}"
      ]
     },
     "execution_count": 14,
     "metadata": {},
     "output_type": "execute_result"
    }
   ],
   "source": [
    "anime = [\n",
    "  \"Promised Neverland\",\n",
    "  \"Attack on Titan\",\n",
    "  \"Re:Zero\",\n",
    "  \"Beastars\"\n",
    "]\n",
    "\n",
    "set(anime)"
   ]
  },
  {
   "cell_type": "code",
   "execution_count": 15,
   "id": "0bb0a5f8",
   "metadata": {},
   "outputs": [
    {
     "data": {
      "text/plain": [
       "{'Attack on Titan', 'Beastars', 'Promised Neverland', 'Re:Zero'}"
      ]
     },
     "execution_count": 15,
     "metadata": {},
     "output_type": "execute_result"
    }
   ],
   "source": [
    "anime = anime * 3\n",
    "set(anime)"
   ]
  },
  {
   "cell_type": "code",
   "execution_count": 16,
   "id": "843df037",
   "metadata": {},
   "outputs": [
    {
     "data": {
      "text/plain": [
       "['Promised Neverland', 'Re:Zero', 'Beastars', 'Attack on Titan']"
      ]
     },
     "execution_count": 16,
     "metadata": {},
     "output_type": "execute_result"
    }
   ],
   "source": [
    "list(set(anime))"
   ]
  },
  {
   "cell_type": "code",
   "execution_count": 17,
   "id": "acd86c6f",
   "metadata": {},
   "outputs": [
    {
     "data": {
      "text/plain": [
       "4"
      ]
     },
     "execution_count": 17,
     "metadata": {},
     "output_type": "execute_result"
    }
   ],
   "source": [
    "len(set(anime))"
   ]
  },
  {
   "cell_type": "code",
   "execution_count": 18,
   "id": "76f617b5",
   "metadata": {},
   "outputs": [
    {
     "name": "stdout",
     "output_type": "stream",
     "text": [
      "(0, 'Promised Neverland')\n",
      "(1, 'Attack on Titan')\n",
      "(2, 'Re:Zero')\n",
      "(3, 'Beastars')\n",
      "(4, 'Promised Neverland')\n",
      "(5, 'Attack on Titan')\n",
      "(6, 'Re:Zero')\n",
      "(7, 'Beastars')\n",
      "(8, 'Promised Neverland')\n",
      "(9, 'Attack on Titan')\n",
      "(10, 'Re:Zero')\n",
      "(11, 'Beastars')\n"
     ]
    }
   ],
   "source": [
    "for i in enumerate(anime):\n",
    "    print(i)"
   ]
  },
  {
   "cell_type": "code",
   "execution_count": 55,
   "id": "2538f16b",
   "metadata": {},
   "outputs": [],
   "source": [
    "def to_empty_or_not_to_empty(list_name:list):\n",
    "    \"\"\"\n",
    "    function that empties a list only in certain conditions\n",
    "        contains duplicate shows\n",
    "        contains more than 17 shows\n",
    "        contans word \"your\"\n",
    "    \"\"\"\n",
    "    if (len(set(list_name)) != len(list_name)):\n",
    "        list_name = []\n",
    "        print(\"c1\")\n",
    "    elif (len(list_name)) > 17:\n",
    "        list_name[:] = []\n",
    "        print('c2')\n",
    "    elif (\"Your\"in word for word in list_name):\n",
    "        list_name *= 0\n",
    "        print(\"c3\")\n",
    "    print(list_name)"
   ]
  },
  {
   "cell_type": "code",
   "execution_count": 56,
   "id": "a8e54e04",
   "metadata": {},
   "outputs": [
    {
     "name": "stdout",
     "output_type": "stream",
     "text": [
      "c1\n",
      "[]\n",
      "c1\n",
      "[]\n",
      "c3\n",
      "[]\n",
      "c3\n",
      "[]\n"
     ]
    }
   ],
   "source": [
    "to_empty_or_not_to_empty([\"Haruhi\", \"Haruhi\"])  # Empty!\n",
    "to_empty_or_not_to_empty([\"Nagatoro\"] * 17)  # Empty!\n",
    "to_empty_or_not_to_empty([\"Your Lie in April\"])  # Empty!\n",
    "to_empty_or_not_to_empty([\"Steins;Gate\", \"My Hero Academia\", \"A Place Further Than the Universe\"])  # Do NOT empty!"
   ]
  }
 ],
 "metadata": {
  "kernelspec": {
   "display_name": "Python 3",
   "language": "python",
   "name": "python3"
  },
  "language_info": {
   "codemirror_mode": {
    "name": "ipython",
    "version": 3
   },
   "file_extension": ".py",
   "mimetype": "text/x-python",
   "name": "python",
   "nbconvert_exporter": "python",
   "pygments_lexer": "ipython3",
   "version": "3.8.8"
  }
 },
 "nbformat": 4,
 "nbformat_minor": 5
}
