{
 "cells": [
  {
   "cell_type": "markdown",
   "id": "ad80e6e2",
   "metadata": {},
   "source": [
    "https://therenegadecoder.com/code/how-to-empty-a-list-in-python/"
   ]
  },
  {
   "cell_type": "code",
   "execution_count": 1,
   "id": "1fa48af1",
   "metadata": {},
   "outputs": [],
   "source": [
    "# create empty list and add to it\n",
    "anime = []\n",
    "anime.append(\"Beastars\")"
   ]
  },
  {
   "cell_type": "code",
   "execution_count": 2,
   "id": "ba7b90ff",
   "metadata": {},
   "outputs": [
    {
     "data": {
      "text/plain": [
       "['Promised Neverland', 'Attack on Titan', 'Re:Zero', 'Beastars']"
      ]
     },
     "execution_count": 2,
     "metadata": {},
     "output_type": "execute_result"
    }
   ],
   "source": [
    "# after a few appends\n",
    "anime = [\n",
    "  \"Promised Neverland\",\n",
    "  \"Attack on Titan\",\n",
    "  \"Re:Zero\",\n",
    "  \"Beastars\"\n",
    "]\n",
    "anime"
   ]
  },
  {
   "cell_type": "markdown",
   "id": "a3c37058",
   "metadata": {},
   "source": [
    "### Different ways to empty the list and start over"
   ]
  },
  {
   "cell_type": "code",
   "execution_count": 3,
   "id": "36cf67cb",
   "metadata": {},
   "outputs": [
    {
     "name": "stdout",
     "output_type": "stream",
     "text": [
      "['Promised Neverland', 'Attack on Titan', 'Re:Zero', 'Beastars', 'My Hero Academia']\n"
     ]
    },
    {
     "data": {
      "text/plain": [
       "['Promised Neverland', 'Attack on Titan', 'Re:Zero', 'Beastars']"
      ]
     },
     "execution_count": 3,
     "metadata": {},
     "output_type": "execute_result"
    }
   ],
   "source": [
    "# use remove - need to know the items\n",
    "anime.append(\"My Hero Academia\")\n",
    "print(anime)\n",
    "\n",
    "anime.remove(\"My Hero Academia\")\n",
    "anime"
   ]
  },
  {
   "cell_type": "code",
   "execution_count": 4,
   "id": "39130003",
   "metadata": {},
   "outputs": [
    {
     "name": "stdout",
     "output_type": "stream",
     "text": [
      "['Promised Neverland', 'Attack on Titan', 'Re:Zero']\n"
     ]
    },
    {
     "data": {
      "text/plain": [
       "['Promised Neverland', 'Attack on Titan']"
      ]
     },
     "execution_count": 4,
     "metadata": {},
     "output_type": "execute_result"
    }
   ],
   "source": [
    "# pop - removes the last item\n",
    "anime.pop()\n",
    "print(anime)\n",
    "\n",
    "anime.pop()\n",
    "anime"
   ]
  },
  {
   "cell_type": "code",
   "execution_count": 6,
   "id": "2ffbfdb9",
   "metadata": {},
   "outputs": [
    {
     "name": "stdout",
     "output_type": "stream",
     "text": [
      "['Promised Neverland', 'Attack on Titan', 'Re:Zero', 'Beastars']\n"
     ]
    },
    {
     "data": {
      "text/plain": [
       "[]"
      ]
     },
     "execution_count": 6,
     "metadata": {},
     "output_type": "execute_result"
    }
   ],
   "source": [
    "anime = [\n",
    "  \"Promised Neverland\",\n",
    "  \"Attack on Titan\",\n",
    "  \"Re:Zero\",\n",
    "  \"Beastars\"\n",
    "]\n",
    "\n",
    "print(anime)\n",
    "\n",
    "# use while statement\n",
    "while anime:\n",
    "    anime.pop()\n",
    "    \n",
    "anime"
   ]
  },
  {
   "cell_type": "code",
   "execution_count": 7,
   "id": "b3a59e32",
   "metadata": {},
   "outputs": [
    {
     "name": "stdout",
     "output_type": "stream",
     "text": [
      "['Promised Neverland', 'Attack on Titan', 'Re:Zero', 'Beastars']\n"
     ]
    },
    {
     "data": {
      "text/plain": [
       "[]"
      ]
     },
     "execution_count": 7,
     "metadata": {},
     "output_type": "execute_result"
    }
   ],
   "source": [
    "# empty a list by assignment - useful in a nested loop when outer loop initializes a list for the inner loop\n",
    "anime = [\n",
    "  \"Promised Neverland\",\n",
    "  \"Attack on Titan\",\n",
    "  \"Re:Zero\",\n",
    "  \"Beastars\"\n",
    "]\n",
    "\n",
    "print(anime)\n",
    "\n",
    "anime = []\n",
    "\n",
    "anime"
   ]
  },
  {
   "cell_type": "code",
   "execution_count": 8,
   "id": "3b9bbd5a",
   "metadata": {},
   "outputs": [
    {
     "name": "stdout",
     "output_type": "stream",
     "text": [
      "['Promised Neverland', 'Attack on Titan', 'Re:Zero', 'Beastars']\n"
     ]
    },
    {
     "data": {
      "text/plain": [
       "[]"
      ]
     },
     "execution_count": 8,
     "metadata": {},
     "output_type": "execute_result"
    }
   ],
   "source": [
    "# clear method - this empties the list and all it's references / aliases\n",
    "anime = [\n",
    "  \"Promised Neverland\",\n",
    "  \"Attack on Titan\",\n",
    "  \"Re:Zero\",\n",
    "  \"Beastars\"\n",
    "]\n",
    "\n",
    "print(anime)\n",
    "\n",
    "tv = anime\n",
    "\n",
    "anime.clear()\n",
    "\n",
    "# clears both tv and anime\n",
    "tv"
   ]
  },
  {
   "cell_type": "code",
   "execution_count": 9,
   "id": "b5482899",
   "metadata": {},
   "outputs": [
    {
     "name": "stdout",
     "output_type": "stream",
     "text": [
      "['Promised Neverland', 'Attack on Titan', 'Re:Zero', 'Beastars']\n"
     ]
    },
    {
     "ename": "NameError",
     "evalue": "name 'anime' is not defined",
     "output_type": "error",
     "traceback": [
      "\u001b[1;31m---------------------------------------------------------------------------\u001b[0m",
      "\u001b[1;31mNameError\u001b[0m                                 Traceback (most recent call last)",
      "\u001b[1;32m<ipython-input-9-8334f07a2ced>\u001b[0m in \u001b[0;36m<module>\u001b[1;34m\u001b[0m\n\u001b[0;32m     11\u001b[0m \u001b[1;32mdel\u001b[0m \u001b[0manime\u001b[0m\u001b[1;33m\u001b[0m\u001b[1;33m\u001b[0m\u001b[0m\n\u001b[0;32m     12\u001b[0m \u001b[1;33m\u001b[0m\u001b[0m\n\u001b[1;32m---> 13\u001b[1;33m \u001b[0manime\u001b[0m\u001b[1;33m\u001b[0m\u001b[1;33m\u001b[0m\u001b[0m\n\u001b[0m",
      "\u001b[1;31mNameError\u001b[0m: name 'anime' is not defined"
     ]
    }
   ],
   "source": [
    "# del method - list needs to be reinitialized\n",
    "anime = [\n",
    "  \"Promised Neverland\",\n",
    "  \"Attack on Titan\",\n",
    "  \"Re:Zero\",\n",
    "  \"Beastars\"\n",
    "]\n",
    "\n",
    "print(anime)\n",
    "\n",
    "del anime\n",
    "\n",
    "# anime  - returns not defined"
   ]
  },
  {
   "cell_type": "code",
   "execution_count": 10,
   "id": "ce2c3568",
   "metadata": {},
   "outputs": [
    {
     "name": "stdout",
     "output_type": "stream",
     "text": [
      "['Promised Neverland', 'Attack on Titan', 'Re:Zero', 'Beastars']\n"
     ]
    },
    {
     "data": {
      "text/plain": [
       "[]"
      ]
     },
     "execution_count": 10,
     "metadata": {},
     "output_type": "execute_result"
    }
   ],
   "source": [
    "# delete using slice to retain the variable name\n",
    "anime = [\n",
    "  \"Promised Neverland\",\n",
    "  \"Attack on Titan\",\n",
    "  \"Re:Zero\",\n",
    "  \"Beastars\"\n",
    "]\n",
    "\n",
    "print(anime)\n",
    "\n",
    "del anime[:]\n",
    "\n",
    "anime"
   ]
  },
  {
   "cell_type": "code",
   "execution_count": 12,
   "id": "ad6466b3",
   "metadata": {},
   "outputs": [
    {
     "name": "stdout",
     "output_type": "stream",
     "text": [
      "['Mirai Nikki', \"Girl's Last Tour\"]\n"
     ]
    },
    {
     "data": {
      "text/plain": [
       "[]"
      ]
     },
     "execution_count": 12,
     "metadata": {},
     "output_type": "execute_result"
    }
   ],
   "source": [
    "# empty a list using slice assignment\n",
    "anime = []\n",
    "anime.append(\"Mirai Nikki\")\n",
    "anime.append(\"Girl's Last Tour\")\n",
    "print(anime)\n",
    "\n",
    "anime[:] = []\n",
    "anime"
   ]
  },
  {
   "cell_type": "code",
   "execution_count": 14,
   "id": "d6193f56",
   "metadata": {},
   "outputs": [
    {
     "name": "stdout",
     "output_type": "stream",
     "text": [
      "['Promised Neverland', 'Attack on Titan', 'Re:Zero', 'Beastars']\n"
     ]
    },
    {
     "data": {
      "text/plain": [
       "['Promised Neverland',\n",
       " 'Attack on Titan',\n",
       " 'Re:Zero',\n",
       " 'Beastars',\n",
       " 'Promised Neverland',\n",
       " 'Attack on Titan',\n",
       " 'Re:Zero',\n",
       " 'Beastars',\n",
       " 'Promised Neverland',\n",
       " 'Attack on Titan',\n",
       " 'Re:Zero',\n",
       " 'Beastars']"
      ]
     },
     "execution_count": 14,
     "metadata": {},
     "output_type": "execute_result"
    }
   ],
   "source": [
    "anime = [\n",
    "  \"Promised Neverland\",\n",
    "  \"Attack on Titan\",\n",
    "  \"Re:Zero\",\n",
    "  \"Beastars\"\n",
    "]\n",
    "\n",
    "print(anime)\n",
    "\n",
    "anime * 3"
   ]
  },
  {
   "cell_type": "code",
   "execution_count": 15,
   "id": "047c2659",
   "metadata": {},
   "outputs": [
    {
     "data": {
      "text/plain": [
       "[]"
      ]
     },
     "execution_count": 15,
     "metadata": {},
     "output_type": "execute_result"
    }
   ],
   "source": [
    "anime * 0"
   ]
  }
 ],
 "metadata": {
  "kernelspec": {
   "display_name": "Python 3",
   "language": "python",
   "name": "python3"
  },
  "language_info": {
   "codemirror_mode": {
    "name": "ipython",
    "version": 3
   },
   "file_extension": ".py",
   "mimetype": "text/x-python",
   "name": "python",
   "nbconvert_exporter": "python",
   "pygments_lexer": "ipython3",
   "version": "3.8.8"
  }
 },
 "nbformat": 4,
 "nbformat_minor": 5
}
